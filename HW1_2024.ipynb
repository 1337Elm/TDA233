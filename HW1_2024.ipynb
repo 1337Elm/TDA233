{
 "cells": [
  {
   "cell_type": "markdown",
   "metadata": {
    "colab_type": "text",
    "id": "1UKOQcXNtJ8e"
   },
   "source": [
    "$\\qquad$ $\\qquad$ $\\qquad$  **TDA233 / DIT382 Machine Learning: Homework 1** <br />\n",
    "$\\qquad$ $\\qquad$ $\\qquad$ **Goal: Start working with Jupyter notebooks, introduction to probability and regression models**<br />\n",
    "$\\qquad$ $\\qquad$ $\\qquad$                   **Grader: Arman Rahbar** <br />\n",
    "$\\qquad$ $\\qquad$ $\\qquad$                   **Submitted by: Benjamin Elm Jonsson, 200111176996, benjamin.elmjonsson@gmail.com** <br />"
   ]
  },
  {
   "cell_type": "markdown",
   "metadata": {
    "colab_type": "text",
    "id": "PQ8gZxqWtJ8h"
   },
   "source": [
    "General guidelines:\n",
    "* All solutions to theoretical and pratical problems must be submitted in this notebook, and equations wherever required, should be formatted using LaTeX math-mode.\n",
    "* All discussion regarding practical problems, along with solutions and plots should be specified in this notebook. \n",
    "All plots/results should be visible such that the notebook do not have to be run. But the code in the notebook should reproduce the plots/results if we choose to do so.\n",
    "* Your name, personal number and email address should be specified above.\n",
    "* All tables and other additional information should be included in this notebook.\n",
    "* ** Before submitting, make sure that your code can run on another computer. That all plots can show on another computer including all your writing. It is good to check if your code can run here: https://colab.research.google.com **\n",
    "* ** Only upload the generatable .html file (that can be exported through File > Download As > HTML) **"
   ]
  },
  {
   "cell_type": "markdown",
   "metadata": {
    "colab_type": "text",
    "id": "vrnQ98KgtJ8i"
   },
   "source": [
    "**Jupyter/IPython Notebook** is a collaborative Python web-based environment. This will be used in all our Homework Assignments. It is installed in the halls ES61-ES62, E-studio and MT9. You can also use google-colab: https://colab.research.google.com\n",
    "to run these notebooks without having to download, install, or do anything on your own computer other than a browser.\n",
    "Some useful resources:\n",
    "1. https://jupyter-notebook-beginner-guide.readthedocs.io/en/latest/ (Quick-start guide)\n",
    "2. https://www.kdnuggets.com/2016/04/top-10-ipython-nb-tutorials.html\n",
    "3. http://jupyter-notebook.readthedocs.io/en/stable/examples/Notebook/Working%20With%20Markdown%20Cells.html (markdown)"
   ]
  },
  {
   "cell_type": "markdown",
   "metadata": {
    "colab_type": "text",
    "id": "fl1Lu21rtJ8k"
   },
   "source": [
    "# Theoretical problems\n",
    "\n",
    "## [Bayes Rule, 3 points]\n",
    "\n",
    "After your yearly checkup, the doctor has bad news and good news. The\n",
    "bad news is that you tested positive for a very serious cancer and\n",
    "that the test is 99.2% accurate i.e. the probability of testing\n",
    "positive given you have the disease is 0.992. The probability of\n",
    "testing negative if you don’t have the disease is the same (also 0.992). The good news is that it is a rare condition affecting only 1 in 1,000 people. What is the probability you actually have the disease? \n",
    "\n",
    "After doing all your calculations you realize that there was a misprint on the test, and the accuracy was actually only 92% (for both testing postive given that you have the disease and for testing negative given that you do not have the disease). How will this change your probability of having the disease?\n",
    "\n",
    "(Show all calculations and the final result.)\n"
   ]
  },
  {
   "cell_type": "markdown",
   "metadata": {},
   "source": [
    "## [Setting hyperparameters, 2 points]\n",
    "\n",
    "Suppose $\\theta$ is a random variable generated from a beta distribution as: $\\theta \\sim Beta(a^2,b)$. Also assume that  the expectation of $\\theta$ is $m$: $E[\\theta] = m$\n",
    "and the variance of $\\theta$ is $v$: $Var(\\theta) = v$. Express $a$ and $b$ in term of (only) $m$ and $v$.\n",
    "For more information about the $Beta$ distribution see https://en.wikipedia.org/wiki/Beta_distribution."
   ]
  },
  {
   "cell_type": "markdown",
   "metadata": {},
   "source": [
    "\n",
    "## [Correlation and Independence, 2 points]\n",
    "\n",
    "Let $X$ be a continuous random variable, uniformly distributed in $[-2, +2]$ and let $Y := X^4$. Clearly $Y$ is not independent of $X$ -- in fact it is uniquely determined by $X$. However, show that the covariance of $X$ and $Y$ is 0: $Cov(X, Y ) = 0$.\n",
    "Show and justify every step of the proof. Statements like \"it is obvious that, it is trivial ...\" will not be accepted."
   ]
  },
  {
   "cell_type": "markdown",
   "metadata": {},
   "source": [
    "## [Spherical Gaussian estimation, 4 points]\n",
    "\n",
    "Consider a dataset $X$ consisting of i.i.d. observations\n",
    "generated from a spherical Gaussian distribution $N(\\mu, \\sigma^2I)$, where $\\mu \\in \\mathbb{R}^p$, $I$ \n",
    "is the $p \\times p $ identity matrix, and $\\sigma^2$ is a scalar.\n",
    "\n",
    "Write the mathematical expression for the Maximum Likelihood Estimator (MLE) for $\\mu$ and $\\sigma$ in above setup.\n",
    "\n",
    "For more information about the spherical Gaussian distribution, see https://en.wikipedia.org/wiki/Multivariate_normal_distribution.\n",
    "For more information about the identity matrix see: https://en.wikipedia.org/wiki/Identity_matrix"
   ]
  },
  {
   "cell_type": "markdown",
   "metadata": {
    "colab_type": "text",
    "id": "lO0M1fgXMtMD"
   },
   "source": [
    "Write Answers  here. Double-click (or enter) to edit. Latex mathematical expressions can just be written by starting with \"$\" and ending with the same character.\n",
    "\n",
    "## Bayes Rules\n",
    "$P(Having \\quad Decease|Tested\\quad Positive) = \\frac{P(Tested\\quad Positive|Having\\quad Decease)\\cdot P(Having\\quad Decease)}{P(Tested\\quad Positive)}$ \n",
    "\n",
    "$= \\frac{P(Tested\\quad Positive|Having\\quad Decease)\\cdot P(Having\\quad Decease)}{P(Tested\\quad positive|Having\\quad Decease)\\cdot P(Having\\quad Decease) + P(Tested\\quad positive|Not\\quad Having\\quad Decease)\\cdot P(Not\\quad Having\\quad Decease)}$\n",
    "\n",
    "$ =\\frac{0.992\\cdot 0.001}{0.992\\cdot 0.001 + (1-0.992)\\cdot 0.999} = 11.04\\% $\n",
    "\n",
    "Changing the accuracy to 92% from 99.2% gives \n",
    "\n",
    "$P(Having\\quad Decease|Tested\\quad Positive) = 1.13\\% $\n",
    "## Setting hyperparameters\n",
    "\n",
    "$E[\\theta] = m = \\frac{a^2}{a^2 + b} \\Rightarrow b = a^2(\\frac{1}{m} - 1)$\n",
    "\n",
    "$Var(\\theta) = v = \\frac{a^2b}{(a^2+b)^2(a^2+b+1)}$\n",
    "\n",
    "Insert the previous relation and simplify \n",
    "\n",
    "$\\Rightarrow a = \\pm \\sqrt{\\frac{m^2(1-m) - mv}{v}}, b = \\frac{m(1-m)^2 - (1-m)v}{v}$\n",
    "\n",
    "## Correlation\n",
    "$Cov(X,Y) = E[(X - E[X])(Y-E[Y])] = E[XY - XE[Y] - E[X]Y + E[X]E[Y]]$\n",
    "\n",
    "Due to linearty of Expectation operator this gives\n",
    "\n",
    "$\\Rightarrow Cov(X,Y) = E[XY] - E[X]E[Y] - E[X]E[Y] + E[X]E[Y] = E[XY] + E[X][Y]$ \n",
    "\n",
    "The second term is zero since $E[X] = 0$ due to X is uniformly distributed. Furthermore, $E[XY] =E[X^5]$. $X^5$ is uniformly distributed on $[-32,32]$ due to odd exponent. Because of this the expectation $E[X^5] = 0$. This gives $Cov(X,Y) = 0$.\n",
    "## Spherical Gaussian\n",
    "To find the maximum likelihood estimator, MLE, the log product of the probability density function is taken\n",
    "\n",
    "$L(\\mu,\\theta) = \\prod_{i=1}^n \\frac{1}{\\sigma \\sqrt{2\\pi}}e^{-\\frac{1}{2}(\\frac{x_i-\\mu}{\\sigma})^2} = \\frac{1}{\\sigma^n (2\\pi)^{n/2}}e^{-\\frac{1}{2\\sigma^2}\\sum_{i=1}^n(x_i-\\mu)^2}$\n",
    "\n",
    "$\\Rightarrow l(\\mu,\\theta) = -\\frac{n}{2}\\cdot ln(2\\sigma^2 \\pi ) - \\frac{1}{2\\sigma^2}\\sum_{i=1}^n (x_i - \\mu)^2 $ \n",
    "\n",
    "After this the maximum point is found with respect to $\\mu$ and $\\sigma$ respectively.\n",
    "\n",
    "$\\frac{\\partial l(\\mu,\\theta)}{\\partial \\mu} = \\frac{1}{\\sigma^2}\\sum_{i=1}^n (x_i - \\mu) = 0$\n",
    "\n",
    "$\\Rightarrow \\mu = \\frac{1}{n}\\sum_{i=1}^n x_i$\n",
    "\n",
    "$\\frac{\\partial l(\\mu,\\theta)}{\\partial \\sigma} = \\frac{n}{\\sigma} + \\frac{1}{\\sigma^3}\\sum_{i=1}^n (x_i - \\mu)^2 = 0$\n",
    "\n",
    "$\\Rightarrow \\sigma = \\sqrt{\\frac{1}{n}\\sum_{i=1}^n (x_i - \\mu)^2}$\n",
    "\n"
   ]
  },
  {
   "cell_type": "markdown",
   "metadata": {},
   "source": [
    "# Practical problems"
   ]
  },
  {
   "cell_type": "markdown",
   "metadata": {},
   "source": [
    "# [Linear Regression with regularization 9pt]\n",
    "\n",
    "You are newly recruited as a Data Scientist at a leading consultancy company in Gothenburg. Your first task at the job is to help the Swedish Public Health Agency (folkhalsomyndigheten) for predicting the diabetes progression of patients. Assume that you are given a dataset D of $n$ patients with $D = \\{ (\\mathbf{x}_i, y_i)\\}_{i=1}^n$ where $\\mathbf{x}_i \\in \\mathbb{R}^p$ represents numerical features of each patients and $y_i \\in \\mathbb{R}$ represent the numerical diabetes progression.  One can also view the dataset D as a pair of matrices $(\\mathbf{X}, \\mathbf{y})$ with $\\mathbf{X} \\in \\mathbb{R}^{n \\times p}$ and $\\mathbf{y} \\in \\mathbb{R}^{n \\times 1}$.\n",
    "\n",
    "Fresh with the lectures in the machine learning course at Chalmers, you would like to use a linear model to quickly perform the task. In order words, you would like to find a vector $\\mathbf{w} \\in \\mathbb{R}^{p \\times 1}$  such that $\\mathbf{y} = \\mathbf{X} \\mathbf{w}$.  However,  you have just read one of the most popular machine learning book and it argues that standard linear regression (for finding $\\mathbf{w}$) can lead to various problems such as non-uniqueness of the solution,  overfitting, etc. As a result, you decided to add a penalty term called regularization to control the optimisation problem. More specifically, you want to solve for: $\\min_{\\mathbf{w}}  \\mathcal{L}(\\mathbf{w})$ where  $\\mathcal{L}(\\mathbf{w}) = \\left(\\sum_{i=1}^n (y_i - \\mathbf{w}^T\\mathbf{x}_i)^2 \\right) + \\left(\\alpha \\sum_{j=1}^p w_j^2 \\right) $ with $\\alpha \\in \\mathbb{R}$ a small coefficient that you will decide later on.\n",
    "\n",
    "Please note the slight changes in the notation. Recall that in the lectures we had a dataset $\\{ (\\mathbf{x}_n, t_n)\\}_{n=1}^N$ where $\\mathbf{x}_n \\in \\mathbb{R}^D$ and $t_n \\in \\mathbb{R}$. We also appended $1$ to the begining of $\\mathbf{x}_n$ so both $\\mathbf{x}_n$ and $\\mathbf{w}$ were in $\\mathbb{R}^{D+1}$. Thus, here $p$ is the same thing as $D+1$. Compare $w_1, w_2, \\dots, w_p$ with $w_0, w_1, \\dots, w_D$.\n",
    "\n",
    "1-  **1pt** Write down $\\mathcal{L}(\\mathbf{w})$ in matrix/vector forms using only $\\mathbf{X}$, $\\mathbf{y}$ and $\\mathbf{w}$ and the L2 norm. In other words, you are not allowed to use any components $y_i, \\mathbf{w}_j$ or $\\mathbf{x}_i$ ( For any vector $\\mathbf{z}$ use the following notation $|\\mathbf{z}|_2$ to mean the L2 norm of  $\\mathbf{z}$ See http://mathworld.wolfram.com/L2-Norm.html for more information about the L2 norm.)\n",
    "\n",
    "$\\mathcal{L}(\\mathbf{w}) = (\\mathbf{y} - \\mathbf{w}^T \\mathbf{X})^T (\\mathbf{y} - \\mathbf{w}^T \\mathbf{X}) + \\alpha |\\mathbf{w}|_2 ^2$\n",
    "\n",
    "2- **1pt** Derive and write down in matrix/vector forms the gradient of $\\mathcal{L}(\\mathbf{w})$ with respect to $\\mathbf{w}$. Show all the derivations. (Hint: You can start by  computing the gradient of the full expression and then convert it to matrix/vector forms. You can also directly get the gradients from your answer in 1-)\n",
    "\n",
    "$\\frac{\\partial \\mathcal{L}(\\mathbf{w})}{\\partial \\mathbf{w}} = 2X^T X w - 2 X^T y + 2\\alpha I w$\n",
    "\n",
    "3- **2pt** Derive and write down in matrix/vector forms the solution $\\mathbf{w}^*$ to the optimization problem $\\min_{\\mathbf{w}}  \\mathcal{L}(\\mathbf{w})$. Show all your derivations. (Hint: $\\mathcal{L}(\\mathbf{w})$ is convex in $\\mathbf{w}$)\n",
    "\n",
    "$\\frac{\\partial \\mathcal{L}(\\mathbf{w})}{\\partial \\mathbf{w}} = 0 =  2X^T X w - 2 X^T y + 2\\alpha I w$\n",
    "\n",
    "$\\Rightarrow \\mathbf{w} = (X^T X + \\alpha I)^{-1}\\cdot X^T y$\n",
    "\n",
    "4-  **2pt** Under which condition on the $\\alpha$ is the solution $\\mathbf{w}^*$ unique? Prove rigorously your statement. Make no assumptions on $\\mathbf{X}$. (Hint: If your solution $\\mathbf{w}^*$ requires to invert a matrix, then one necessary condition for uniquess is for the matrix to be invertible. And any positive definitive matrix https://en.wikipedia.org/wiki/Definiteness_of_a_matrix is invertible. You might also want to look at the properties of transposition https://en.wikipedia.org/wiki/Transpose)\n",
    "\n",
    "The term $(X^T X -\\alpha I)$ must be invertible and thus the terms $X^T X$ and $\\alpha I$ must be positive definite respectively. Since the first term is a square it will be positive definite. Furthermore the sum of the two terms needs to also be positive definite, this is garanteed with $\\alpha \\geq 0$. Thus the inverse exists and the solution is unique.\n",
    "\n",
    "5- **2pt** Implement in Python a well commented function **fit_linear_with_regularization** that takes as input $\\mathbf{X}$, $\\mathbf{y}$ and $\\alpha$ and return $\\mathbf{w}^*$ as computed in question 3. You are not allowed to use any loops (for-loop, while-loop ...) to do the implementation. Instead use and abuse as much as possible numpy vectorization techniques. A skeleton of the function is shown in the code cell below.\n",
    "\n",
    "6- **3pt** Implement in Python a well commented function **predict** that takes as input a dataset $\\mathbf{X_{\\text{test}}}$ in the same dimensions as $\\mathbf{X}$ and return the predictions.   Write down the mean squared error (https://en.wikipedia.org/wiki/Mean_squared_error) of your predictions. Then on the same plot with legends, show:\n",
    "\n",
    " a) A scatter plot of the first feature of $\\mathbf{X_{\\text{test}}}$ (x-axis) and the diabetes progression $\\mathbf{y_{\\text{test}}}$ \n",
    " \n",
    " b) A plot of your prediction for $\\mathbf{X_{\\text{test}}}$\n",
    " \n",
    " The skeleton code in the cell below already implements most of data loading and you should only have to fill in the *TODO* part. Again here no loops are allowed (for-loop, while loop in the implementation of the plots and the **predict** )\n"
   ]
  },
  {
   "cell_type": "code",
   "execution_count": 9,
   "metadata": {},
   "outputs": [
    {
     "name": "stdout",
     "output_type": "stream",
     "text": [
      "Mean Squared error is  22050.715096618198\n"
     ]
    },
    {
     "data": {
      "image/png": "[encoded data removed]",
      "text/plain": [
       "<Figure size 640x480 with 1 Axes>"
      ]
     },
     "metadata": {},
     "output_type": "display_data"
    }
   ],
   "source": [
    "# Make it possible to show plots in the notebooks.\n",
    "import numpy as np\n",
    "from sklearn import datasets\n",
    "import matplotlib\n",
    "import matplotlib.pyplot as plt\n",
    "\n",
    "\n",
    "def fit_linear_with_regularization(X, y, alpha):\n",
    "  \"\"\"Function that returns (X^T *X - alpha*I)^-1 *X^T *y, i.e optimal w \"\"\"\n",
    "  return np.matmul(np.linalg.inv(np.matmul(np.transpose(X),X) + alpha*np.eye(np.shape(X)[1])),np.matmul(np.transpose(X),y))\n",
    "\n",
    "\n",
    "def predict(X_test, w):\n",
    "  \"\"\"Function that returns the prediction y = X*w\"\"\"\n",
    "  return np.matmul(X_test,w)\n",
    "\n",
    "\n",
    "def plot_prediction(X_test, y_test, y_pred):\n",
    "  \"\"\"Function that plots the test data and prediction and calculates mean squared error and returns it\"\"\"\n",
    "  # Scatter plot the first feature of X_test (x-axis) and y_test (y-axis)\n",
    "  plt.scatter(X_test[:,0],y_test)\n",
    "  \n",
    "  # Plot y_pred using the first feature of X_test as x-axis\n",
    "  plt.scatter(X_test[:,0],y_pred)\n",
    "\n",
    "  # Compute the mean squared error\n",
    "  mean_squared_error = np.sum((y_test-y_pred)**2)*(1/len(y_test))\n",
    "  return mean_squared_error\n",
    "\n",
    "# Load the diabetes dataset\n",
    "X, y = datasets.load_diabetes(return_X_y=True)\n",
    "\n",
    "#X = np.c_[np.ones(len(X)), X]\n",
    "# Split the dataset into training and test set\n",
    "num_test_elements = 20\n",
    "\n",
    "X_train = X[:-num_test_elements]\n",
    "X_test = X[-num_test_elements:]\n",
    "\n",
    "y_train = y[:-num_test_elements]\n",
    "y_test = y[-num_test_elements:]\n",
    "\n",
    "# Set alpha\n",
    "alpha = 0.01\n",
    "\n",
    "# Train using linear regression with regularization and find optimal model\n",
    "w = fit_linear_with_regularization(X_train, y_train, alpha)\n",
    "\n",
    "# Make predictions using the testing set X_test\n",
    "y_pred = predict(X_test, w)\n",
    "\n",
    "# Plots and mean squared error\n",
    "error = plot_prediction(X_test, y_test, y_pred)\n",
    "print('Mean Squared error is ', error)\n",
    "\n",
    "# Show the plot\n",
    "plt.show();\n"
   ]
  },
  {
   "cell_type": "markdown",
   "metadata": {},
   "source": [
    "# Bonus question\n",
    "\n",
    "Answering this question, will not give you any additional points. Not answering this question will not prevent you from getting full points (if all other questions are answered correctly). However, if you answer this question, we will pick exactly one question where you didn't receive full points in this assignment and give you **at most** 4 more points there. In particular,  between the questions for which you have reasonably attempted a solution, we will pick the one where the difference between the full point and the point you received is the maximum.\n",
    "\n",
    "## Bayesian Linear Regression 4pt\n",
    "\n",
    "Proud of finishing the task using a linear model with regularization, you show your results to a representative of the Swedish Public Health Agency. You barely finish explaining your solution when the face of the representative turns red and you could distinctly hear: \"Bayesian is the only way: How come didn't you use any probabilities?\". \n",
    "\n",
    "You quickly head back to your desk and now assume a Gaussian prior on the solution $\\mathbf{w}$, that is $p(\\mathbf{w}) = \\mathcal{N}(\\mathbf{0}, \\lambda^{-1} \\mathbf{I})$ where $\\lambda \\in \\mathbb{R}$ is a constant real number, $I$ is the $p \\times p$ identity matrix and $\\mathcal{N}(\\mathbf{0}, \\lambda^{-1} \\mathbf{I})$ is used to mean the multivariate gaussian distribution with mean $\\mathbf{0} \\in \\mathbb{R}^p$ , a vector of zeros of dimension $p$ and covariance matrix $\\lambda^{-1} \\mathbf{I}$ . Then, you use the following likelihood:\n",
    "\n",
    "$p(\\mathbf{y} | \\mathbf{X}, \\mathbf{w}) = \\prod_{i=1}^n \\mathcal{N}(\\mathbf{w}^T \\mathbf{x}_i, \\gamma^{-1})$ where here $\\gamma \\in \\mathbb{R}$ is a constant real number and $\\mathcal{N}(\\mathbf{w}^T \\mathbf{x}_i, \\gamma^{-1})$ is the gaussian distribution with mean  $\\mathbf{w}^T \\mathbf{x}_i$ and variance $\\gamma^{-1}$.\n",
    "\n",
    "\n",
    "7- **2pt** Derive and express in vector/matrix form as a function of $\\mathbf{X}, \\mathbf{y}, \\mathbf{w}$ the log posterior $\\ln p(\\mathbf{w} | \\mathbf{y}, \\mathbf{X})$. Show all the derivations. You can ignore normalizing constants.\n",
    " \n",
    "$p(\\mathbf{y}|\\mathbf{X},\\mathbf{w}) = \\prod_{i=1}^n \\frac{1}{\\sqrt{2\\pi \\gamma^{-2}}}e^{-\\frac{1}{2}\\sum_{i=1}^n (\\frac{y_i - w^T x_i}{\\gamma^{-1}})^2} $\n",
    "\n",
    "\n",
    "$\\Rightarrow ln(p(\\mathbf{y}|\\mathbf{X},\\mathbf{w})) \\propto - \\frac{1}{2}(\\mathbf{y}-\\mathbf{w}^T \\mathbf{X})^T \\gamma^2 \\mathbf{I} (\\mathbf{y}-\\mathbf{w}^T \\mathbf{X}) $\n",
    "\n",
    "8-  **2pt** Show that maximizing the posterior in 7- is  similar to minimizing the function $\\mathcal{L}(\\mathbf{w})$ seen in the previous section. Show your derivations. (Note: You should show this without computing the maximum of the posterior. Instead, you should express the log posterior in term of $\\mathcal{L}(\\mathbf{w})$, ignoring constants if necessary. Then find the $\\alpha$ of $\\mathcal{L}(\\mathbf{w})$ in term of $\\lambda$ and $\\gamma$).\n",
    "\n",
    "Since $(\\mathbf{y}-\\mathbf{w}^T \\mathbf{X})^T (\\mathbf{y}-\\mathbf{w}^T \\mathbf{X})$ is strictly positive it will result in a negative contribution to the function. This results in the maximizing being equivalent to the minimizing of $\\mathcal{L}(\\mathbf{w})$."
   ]
  }
 ],
 "metadata": {
  "colab": {
   "name": "Hw1_2019.ipynb",
   "provenance": [
    {
     "file_id": "1Y5XjPfo2fv3nGBtIxbf0F_WFtssz1N_S",
     "timestamp": 1553254350644
    }
   ],
   "version": "0.3.2"
  },
  "kernelspec": {
   "display_name": "Python 3 (ipykernel)",
   "language": "python",
   "name": "python3"
  },
  "language_info": {
   "codemirror_mode": {
    "name": "ipython",
    "version": 3
   },
   "file_extension": ".py",
   "mimetype": "text/x-python",
   "name": "python",
   "nbconvert_exporter": "python",
   "pygments_lexer": "ipython3",
   "version": "3.11.8"
  }
 },
 "nbformat": 4,
 "nbformat_minor": 1
}
